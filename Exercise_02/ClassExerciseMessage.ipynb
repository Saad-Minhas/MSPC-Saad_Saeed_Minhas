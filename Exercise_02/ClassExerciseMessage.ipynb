{
 "cells": [
  {
   "cell_type": "code",
   "execution_count": 1,
   "id": "377753f1-ee04-403d-8c0a-43208abac358",
   "metadata": {},
   "outputs": [],
   "source": [
    "#Exercise"
   ]
  },
  {
   "cell_type": "code",
   "execution_count": 2,
   "id": "62ac6370-81ab-42ce-976e-21cbd23081a1",
   "metadata": {},
   "outputs": [],
   "source": [
    "from rich import print"
   ]
  },
  {
   "cell_type": "code",
   "execution_count": 3,
   "id": "0bb03365-5cef-4e91-baac-3a153339f027",
   "metadata": {},
   "outputs": [],
   "source": [
    "message_1 = \"https://database.com/user/augustom,AugUSto Martin, 23, Approved,,\"\n",
    "message_2 = \"https://database.com/user/juliasch,JuLIA SchmidT, 67, rejected,,\"\n",
    "message_3 = \"https://database.com/user/kmarx,Karl Marx, 42, rejected,,\""
   ]
  },
  {
   "cell_type": "code",
   "execution_count": 4,
   "id": "98f3ea20-3be1-44ec-abd5-e4f583e51658",
   "metadata": {},
   "outputs": [],
   "source": [
    "formated_m1 = message_1[26:].lower().replace(\" \", \"\").removesuffix(\",,\")\n",
    "formated_m2 = message_2[26:].lower().replace(\" \", \"\").removesuffix(\",,\")\n",
    "formated_m3 = message_3[26:].lower().replace(\" \", \"\").removesuffix(\",,\")"
   ]
  },
  {
   "cell_type": "code",
   "execution_count": 5,
   "id": "32d5c2ae-5ad1-4010-aa01-4dc09207139f",
   "metadata": {},
   "outputs": [
    {
     "data": {
      "text/html": [
       "<pre style=\"white-space:pre;overflow-x:auto;line-height:normal;font-family:Menlo,'DejaVu Sans Mono',consolas,'Courier New',monospace\">The formated message is \n",
       "augustom,augustomartin,<span style=\"color: #008080; text-decoration-color: #008080; font-weight: bold\">23</span>,approved \n",
       "juliasch,juliaschmidt,<span style=\"color: #008080; text-decoration-color: #008080; font-weight: bold\">67</span>,rejected \n",
       "kmarx,karlmarx,<span style=\"color: #008080; text-decoration-color: #008080; font-weight: bold\">42</span>,rejected\n",
       "</pre>\n"
      ],
      "text/plain": [
       "The formated message is \n",
       "augustom,augustomartin,\u001b[1;36m23\u001b[0m,approved \n",
       "juliasch,juliaschmidt,\u001b[1;36m67\u001b[0m,rejected \n",
       "kmarx,karlmarx,\u001b[1;36m42\u001b[0m,rejected\n"
      ]
     },
     "metadata": {},
     "output_type": "display_data"
    }
   ],
   "source": [
    "print (f\"The formated message is \\n{formated_m1} \\n{formated_m2} \\n{formated_m3}\")"
   ]
  },
  {
   "cell_type": "code",
   "execution_count": null,
   "id": "851aa85b-de4b-492b-b193-1065c9110295",
   "metadata": {},
   "outputs": [],
   "source": []
  }
 ],
 "metadata": {
  "kernelspec": {
   "display_name": "Python 3 (ipykernel)",
   "language": "python",
   "name": "python3"
  },
  "language_info": {
   "codemirror_mode": {
    "name": "ipython",
    "version": 3
   },
   "file_extension": ".py",
   "mimetype": "text/x-python",
   "name": "python",
   "nbconvert_exporter": "python",
   "pygments_lexer": "ipython3",
   "version": "3.12.7"
  }
 },
 "nbformat": 4,
 "nbformat_minor": 5
}
