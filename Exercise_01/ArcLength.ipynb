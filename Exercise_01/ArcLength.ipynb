{
 "cells": [
  {
   "cell_type": "code",
   "execution_count": 2,
   "id": "e79ff9a2-3c58-44a9-8c44-867df7504204",
   "metadata": {},
   "outputs": [],
   "source": [
    "diameter = 9\n",
    "angle_degrees = 45\n",
    "pi = 3.1416"
   ]
  },
  {
   "cell_type": "code",
   "execution_count": 3,
   "id": "c728a758-0261-4a32-8822-b6e2411b0b7b",
   "metadata": {},
   "outputs": [],
   "source": [
    "radius = diameter / 2"
   ]
  },
  {
   "cell_type": "code",
   "execution_count": 4,
   "id": "a79ab94f-e944-41e4-9850-cbde4d1d16e9",
   "metadata": {},
   "outputs": [],
   "source": [
    "angle_radians = (pi / 180) * angle_degrees\n",
    "arc_length = radius * angle_radians"
   ]
  },
  {
   "cell_type": "code",
   "execution_count": 5,
   "id": "2055f23a-b14d-4c88-b863-f19db7a33f03",
   "metadata": {},
   "outputs": [
    {
     "name": "stdout",
     "output_type": "stream",
     "text": [
      "Diameter of circle: 9\n",
      "Angle measure: 45\n",
      "Arc Length is: 3.5343000000000004\n"
     ]
    }
   ],
   "source": [
    "print(\"Diameter of circle:\", diameter)\n",
    "print(\"Angle measure:\", angle_degrees)\n",
    "print(\"Arc Length is:\", arc_length)"
   ]
  }
 ],
 "metadata": {
  "kernelspec": {
   "display_name": "Python 3 (ipykernel)",
   "language": "python",
   "name": "python3"
  },
  "language_info": {
   "codemirror_mode": {
    "name": "ipython",
    "version": 3
   },
   "file_extension": ".py",
   "mimetype": "text/x-python",
   "name": "python",
   "nbconvert_exporter": "python",
   "pygments_lexer": "ipython3",
   "version": "3.12.7"
  }
 },
 "nbformat": 4,
 "nbformat_minor": 5
}
